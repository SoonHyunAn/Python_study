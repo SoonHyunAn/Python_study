{
 "cells": [
  {
   "cell_type": "code",
   "execution_count": 47,
   "id": "b0da4bd4",
   "metadata": {},
   "outputs": [
    {
     "ename": "SyntaxError",
     "evalue": "invalid syntax (Temp/ipykernel_9700/3497342778.py, line 3)",
     "output_type": "error",
     "traceback": [
      "\u001b[1;36m  File \u001b[1;32m\"C:\\Users\\gusdl\\AppData\\Local\\Temp/ipykernel_9700/3497342778.py\"\u001b[1;36m, line \u001b[1;32m3\u001b[0m\n\u001b[1;33m    export PYTHONIOENCODING=utf-8\u001b[0m\n\u001b[1;37m           ^\u001b[0m\n\u001b[1;31mSyntaxError\u001b[0m\u001b[1;31m:\u001b[0m invalid syntax\n"
     ]
    }
   ],
   "source": [
    "import konlpy\n",
    "import pandas as pd\n",
    "konlpy.__version__"
   ]
  },
  {
   "cell_type": "code",
   "execution_count": 2,
   "id": "53df4591",
   "metadata": {},
   "outputs": [
    {
     "name": "stdout",
     "output_type": "stream",
     "text": [
      "['설치', '가', '잘', '되나요', '?', '안되면', '댓글', '남겨주세요']\n"
     ]
    }
   ],
   "source": [
    "from konlpy.tag import Okt\n",
    "okt=Okt()\n",
    "text='설치가 잘 되나요? 안되면 댓글 남겨주세요'\n",
    "print(okt.morphs(text))"
   ]
  },
  {
   "cell_type": "code",
   "execution_count": 3,
   "id": "95da0659",
   "metadata": {},
   "outputs": [
    {
     "name": "stdout",
     "output_type": "stream",
     "text": [
      "\n",
      "system: Windows\n",
      "window_ver: ('10', '10.0.19045', 'SP0', 'Multiprocessor Free')\n"
     ]
    }
   ],
   "source": [
    "import platform\n",
    "import sys\n",
    "\n",
    "print(\"\"\"\n",
    "system: %s\n",
    "window_ver: %s\"\"\"% (platform.system(),platform.win32_ver(),\n",
    "                ))"
   ]
  },
  {
   "cell_type": "code",
   "execution_count": 4,
   "id": "117d8ef1",
   "metadata": {},
   "outputs": [
    {
     "name": "stdout",
     "output_type": "stream",
     "text": [
      "['JPype1 설치 너무 개 같아요.', '며칠을 날렸어요']\n",
      "['1', '설치', '개', '며칠']\n",
      "[('JPype', 'OL'), ('1', 'NR'), ('설치', 'NNG'), ('너무', 'MAG'), ('개', 'NNG'), ('같', 'VA'), ('아요', 'EFN'), ('.', 'SF'), ('며칠', 'NNG'), ('을', 'JKO'), ('날리', 'VV'), ('었', 'EPT'), ('어요', 'EFN')]\n"
     ]
    }
   ],
   "source": [
    "from konlpy.tag import Kkma\n",
    "from konlpy.utils import pprint\n",
    "kkma=Kkma()\n",
    "print(kkma.sentences(u'JPype1 설치 너무 개같아요. 며칠을 날렸어요'))\n",
    "print(kkma.nouns(u'JPype1 설치 너무 개같아요. 며칠을 날렸어요'))\n",
    "print(kkma.pos(u'JPype1 설치 너무 개같아요. 며칠을 날렸어요'))"
   ]
  },
  {
   "cell_type": "code",
   "execution_count": 5,
   "id": "cad613eb",
   "metadata": {},
   "outputs": [
    {
     "name": "stdout",
     "output_type": "stream",
     "text": [
      "Requirement already satisfied: kaggle in c:\\users\\gusdl\\anaconda3\\lib\\site-packages (1.5.16)\n",
      "Requirement already satisfied: certifi in c:\\users\\gusdl\\anaconda3\\lib\\site-packages (from kaggle) (2021.10.8)\n",
      "Requirement already satisfied: urllib3 in c:\\users\\gusdl\\anaconda3\\lib\\site-packages (from kaggle) (1.26.7)\n",
      "Requirement already satisfied: requests in c:\\users\\gusdl\\anaconda3\\lib\\site-packages (from kaggle) (2.26.0)\n",
      "Requirement already satisfied: six>=1.10 in c:\\users\\gusdl\\anaconda3\\lib\\site-packages (from kaggle) (1.16.0)\n",
      "Requirement already satisfied: python-slugify in c:\\users\\gusdl\\anaconda3\\lib\\site-packages (from kaggle) (5.0.2)\n",
      "Requirement already satisfied: tqdm in c:\\users\\gusdl\\anaconda3\\lib\\site-packages (from kaggle) (4.62.3)\n",
      "Requirement already satisfied: python-dateutil in c:\\users\\gusdl\\anaconda3\\lib\\site-packages (from kaggle) (2.8.2)\n",
      "Requirement already satisfied: bleach in c:\\users\\gusdl\\anaconda3\\lib\\site-packages (from kaggle) (4.0.0)\n",
      "Requirement already satisfied: webencodings in c:\\users\\gusdl\\anaconda3\\lib\\site-packages (from bleach->kaggle) (0.5.1)\n",
      "Requirement already satisfied: packaging in c:\\users\\gusdl\\anaconda3\\lib\\site-packages (from bleach->kaggle) (21.0)\n",
      "Requirement already satisfied: pyparsing>=2.0.2 in c:\\users\\gusdl\\anaconda3\\lib\\site-packages (from packaging->bleach->kaggle) (3.0.4)\n",
      "Requirement already satisfied: text-unidecode>=1.3 in c:\\users\\gusdl\\anaconda3\\lib\\site-packages (from python-slugify->kaggle) (1.3)\n",
      "Requirement already satisfied: idna<4,>=2.5 in c:\\users\\gusdl\\anaconda3\\lib\\site-packages (from requests->kaggle) (3.2)\n",
      "Requirement already satisfied: charset-normalizer~=2.0.0 in c:\\users\\gusdl\\anaconda3\\lib\\site-packages (from requests->kaggle) (2.0.4)\n",
      "Requirement already satisfied: colorama in c:\\users\\gusdl\\anaconda3\\lib\\site-packages (from tqdm->kaggle) (0.4.4)\n"
     ]
    }
   ],
   "source": [
    "!pip install kaggle"
   ]
  },
  {
   "cell_type": "code",
   "execution_count": 19,
   "id": "ddc241f7",
   "metadata": {},
   "outputs": [],
   "source": [
    "import os\n",
    "os.environ['KAGGLE_USERNAME'] = '안순현'\n",
    "os.environ['KAGGLE_KEY'] = '현이와찬이'\n",
    "\n"
   ]
  },
  {
   "cell_type": "code",
   "execution_count": null,
   "id": "c6430b02",
   "metadata": {},
   "outputs": [],
   "source": [
    "\"\"\" 명령어 목록\n",
    "kaggle competitions {list, files, download, submit, submissions, leaderboard}\n",
    "kaggle datasets {list, files, download, create, version, init, metadata, status}\n",
    "kaggle kernels {list, init, push, pull, output, status}\n",
    "kaggle models {get, list, init, create, delete, update}\n",
    "kaggle models instances {get, init, create, delete, update}\n",
    "kaggle models instances versions {init, create, download, delete}\n",
    "kaggle models instances {get, init, create, delete, update}\n",
    "kaggle config {view, set, unset}\n",
    "\"\"\""
   ]
  },
  {
   "cell_type": "code",
   "execution_count": 7,
   "id": "9553c27d",
   "metadata": {},
   "outputs": [
    {
     "name": "stdout",
     "output_type": "stream",
     "text": [
      "usage: kaggle [-h] [-v]\n",
      "              {competitions,c,datasets,d,kernels,k,models,m,files,f,config}\n",
      "              ...\n",
      "\n",
      "optional arguments:\n",
      "  -h, --help            show this help message and exit\n",
      "  -v, --version         show program's version number and exit\n",
      "\n",
      "commands:\n",
      "  {competitions,c,datasets,d,kernels,k,models,m,files,f,config}\n",
      "                        Use one of:\n",
      "                        competitions {list, files, download, submit, submissions, leaderboard}\n",
      "                        datasets {list, files, download, create, version, init, metadata, status}\n",
      "                        kernels {list, init, push, pull, output, status}\n",
      "                        config {view, set, unset}\n",
      "    competitions (c)    Commands related to Kaggle competitions\n",
      "    datasets (d)        Commands related to Kaggle datasets\n",
      "    kernels (k)         Commands related to Kaggle kernels\n",
      "    files (f)           Commands related files\n",
      "    config              Configuration settings\n"
     ]
    }
   ],
   "source": [
    "!kaggle -h"
   ]
  },
  {
   "cell_type": "code",
   "execution_count": 14,
   "id": "30180d21",
   "metadata": {},
   "outputs": [
    {
     "name": "stdout",
     "output_type": "stream",
     "text": [
      "Name: kaggle\n",
      "Version: 1.5.16\n",
      "Summary: Kaggle API\n",
      "Home-page: https://github.com/Kaggle/kaggle-api\n",
      "Author: Kaggle\n",
      "Author-email: support@kaggle.com\n",
      "License: Apache 2.0\n",
      "Location: c:\\users\\gusdl\\anaconda3\\lib\\site-packages\n",
      "Requires: bleach, certifi, requests, urllib3, python-dateutil, tqdm, python-slugify, six\n",
      "Required-by: \n"
     ]
    }
   ],
   "source": [
    "!pip show kaggle"
   ]
  },
  {
   "cell_type": "code",
   "execution_count": 25,
   "id": "875a1b9a",
   "metadata": {},
   "outputs": [
    {
     "name": "stdout",
     "output_type": "stream",
     "text": [
      "Requirement already satisfied: kaggle in c:\\users\\gusdl\\anaconda3\\lib\\site-packages (1.5.16)\n",
      "Requirement already satisfied: python-dateutil in c:\\users\\gusdl\\anaconda3\\lib\\site-packages (from kaggle) (2.8.2)\n",
      "Requirement already satisfied: tqdm in c:\\users\\gusdl\\anaconda3\\lib\\site-packages (from kaggle) (4.62.3)\n",
      "Requirement already satisfied: urllib3 in c:\\users\\gusdl\\anaconda3\\lib\\site-packages (from kaggle) (1.26.7)\n",
      "Requirement already satisfied: certifi in c:\\users\\gusdl\\anaconda3\\lib\\site-packages (from kaggle) (2021.10.8)\n",
      "Requirement already satisfied: bleach in c:\\users\\gusdl\\anaconda3\\lib\\site-packages (from kaggle) (4.0.0)\n",
      "Requirement already satisfied: requests in c:\\users\\gusdl\\anaconda3\\lib\\site-packages (from kaggle) (2.26.0)\n",
      "Requirement already satisfied: six>=1.10 in c:\\users\\gusdl\\anaconda3\\lib\\site-packages (from kaggle) (1.16.0)\n",
      "Requirement already satisfied: python-slugify in c:\\users\\gusdl\\anaconda3\\lib\\site-packages (from kaggle) (5.0.2)\n",
      "Requirement already satisfied: packaging in c:\\users\\gusdl\\anaconda3\\lib\\site-packages (from bleach->kaggle) (21.0)\n",
      "Requirement already satisfied: webencodings in c:\\users\\gusdl\\anaconda3\\lib\\site-packages (from bleach->kaggle) (0.5.1)\n",
      "Requirement already satisfied: pyparsing>=2.0.2 in c:\\users\\gusdl\\anaconda3\\lib\\site-packages (from packaging->bleach->kaggle) (3.0.4)\n",
      "Requirement already satisfied: text-unidecode>=1.3 in c:\\users\\gusdl\\anaconda3\\lib\\site-packages (from python-slugify->kaggle) (1.3)\n",
      "Requirement already satisfied: idna<4,>=2.5 in c:\\users\\gusdl\\anaconda3\\lib\\site-packages (from requests->kaggle) (3.2)\n",
      "Requirement already satisfied: charset-normalizer~=2.0.0 in c:\\users\\gusdl\\anaconda3\\lib\\site-packages (from requests->kaggle) (2.0.4)\n",
      "Requirement already satisfied: colorama in c:\\users\\gusdl\\anaconda3\\lib\\site-packages (from tqdm->kaggle) (0.4.4)\n"
     ]
    }
   ],
   "source": [
    "!pip install --upgrade kaggle"
   ]
  },
  {
   "cell_type": "code",
   "execution_count": 24,
   "id": "6a990b74",
   "metadata": {},
   "outputs": [
    {
     "name": "stdout",
     "output_type": "stream",
     "text": [
      "Configuration values from C:\\Users\\gusdl\\.kaggle\n",
      "- username: 안순현\n",
      "- path: None\n",
      "- proxy: None\n",
      "- competition: None\n"
     ]
    }
   ],
   "source": [
    "!kaggle config view"
   ]
  },
  {
   "cell_type": "code",
   "execution_count": 21,
   "id": "170f64a4",
   "metadata": {},
   "outputs": [
    {
     "name": "stdout",
     "output_type": "stream",
     "text": [
      "usage: kaggle competitions list [-h] [--group GROUP] [--category CATEGORY]\n",
      "                                [--sort-by SORT_BY] [-p PAGE] [-s SEARCH] [-v]\n",
      "\n",
      "optional arguments:\n",
      "  -h, --help            show this help message and exit\n",
      "  --group GROUP         Search for competitions in a specific group. Default is 'general'. Valid options are 'general', 'entered', and 'inClass'\n",
      "  --category CATEGORY   Search for competitions of a specific category. Default is 'all'. Valid options are 'all', 'featured', 'research', 'recruitment', 'gettingStarted', 'masters', and 'playground'\n",
      "  --sort-by SORT_BY     Sort list results. Default is 'latestDeadline'. Valid options are 'grouped', 'prize', 'earliestDeadline', 'latestDeadline', 'numberOfTeams', and 'recentlyCreated'\n",
      "  -p PAGE, --page PAGE  Page number for results paging. Page size is 20 by default\n",
      "  -s SEARCH, --search SEARCH\n",
      "                        Term(s) to search for\n",
      "  -v, --csv             Print results in CSV format (if not set print in table format)\n"
     ]
    }
   ],
   "source": [
    "!kaggle competitions list -h"
   ]
  },
  {
   "cell_type": "code",
   "execution_count": 56,
   "id": "ec148543",
   "metadata": {},
   "outputs": [
    {
     "name": "stdout",
     "output_type": "stream",
     "text": [
      "{\"username\":\"coldbreww\",\"key\":\"ff3c480d24674e4e2a098e35a4636fb4\"}\n"
     ]
    }
   ],
   "source": [
    "!cat C:\\Users\\gusdl\\.kaggle\\kaggle.json"
   ]
  },
  {
   "cell_type": "code",
   "execution_count": 57,
   "id": "7d17187e",
   "metadata": {},
   "outputs": [],
   "source": [
    "import os\n",
    "\n",
    "# PYTHONIOENCODING 환경 변수를 utf-8로 설정\n",
    "os.environ[\"PYTHONIOENCODING\"] = \"utf-8\""
   ]
  },
  {
   "cell_type": "code",
   "execution_count": 1,
   "id": "482c33ef",
   "metadata": {},
   "outputs": [
    {
     "name": "stdout",
     "output_type": "stream",
     "text": [
      "ref                                                                       deadline             category            reward  teamCount  userHasEntered  \n",
      "------------------------------------------------------------------------  -------------------  ---------------  ---------  ---------  --------------  \n",
      "https://www.kaggle.com/competitions/commonlit-evaluate-student-summaries  2023-10-11 23:59:00  Featured           $60,000       1263           False  \n",
      "https://www.kaggle.com/competitions/kaggle-llm-science-exam               2023-10-10 23:59:00  Featured           $50,000       1857           False  \n",
      "https://www.kaggle.com/competitions/nlp-getting-started                   2030-01-01 00:00:00  Getting Started  Knowledge        968           False  \n",
      "https://www.kaggle.com/competitions/contradictory-my-dear-watson          2030-07-01 23:59:00  Getting Started  Knowledge         57           False  \n"
     ]
    }
   ],
   "source": [
    "!kaggle competitions list -s nlp"
   ]
  },
  {
   "cell_type": "code",
   "execution_count": 2,
   "id": "58599117",
   "metadata": {},
   "outputs": [
    {
     "name": "stdout",
     "output_type": "stream",
     "text": [
      "name                   size  creationDate         \n",
      "---------------------  ----  -------------------  \n",
      "test.csv               28KB  2018-04-09 05:33:22  \n",
      "train.csv              60KB  2018-04-09 05:33:22  \n",
      "gender_submission.csv   3KB  2018-04-09 05:33:22  \n"
     ]
    }
   ],
   "source": [
    "!kaggle competitions files -c titanic "
   ]
  },
  {
   "cell_type": "code",
   "execution_count": 5,
   "id": "1c85e832",
   "metadata": {},
   "outputs": [
    {
     "name": "stdout",
     "output_type": "stream",
     "text": [
      "Downloading titanic.zip to H:\\etc\\Etc\\Python\\3. 캐글 활용\n",
      "\n"
     ]
    },
    {
     "name": "stderr",
     "output_type": "stream",
     "text": [
      "\n",
      "  0%|          | 0.00/34.1k [00:00<?, ?B/s]\n",
      "100%|##########| 34.1k/34.1k [00:00<00:00, 308kB/s]\n",
      "100%|##########| 34.1k/34.1k [00:00<00:00, 257kB/s]\n"
     ]
    }
   ],
   "source": [
    "!kaggle competitions download -c titanic"
   ]
  },
  {
   "cell_type": "code",
   "execution_count": 12,
   "id": "1f415c23",
   "metadata": {},
   "outputs": [
    {
     "name": "stdout",
     "output_type": "stream",
     "text": [
      "competitions\n",
      "kaggle.json\n"
     ]
    }
   ],
   "source": [
    "#뭐가 있는지 확인\n",
    "!ls ~/.kaggle"
   ]
  },
  {
   "cell_type": "code",
   "execution_count": 11,
   "id": "e75cf476",
   "metadata": {},
   "outputs": [
    {
     "name": "stdout",
     "output_type": "stream",
     "text": [
      "gender_submission.csv\n",
      "test.csv\n",
      "titanic.zip\n",
      "train.csv\n"
     ]
    }
   ],
   "source": [
    "!ls ~/.kaggle/competitions/titanic"
   ]
  },
  {
   "cell_type": "code",
   "execution_count": 29,
   "id": "cb0e0631",
   "metadata": {},
   "outputs": [
    {
     "name": "stdout",
     "output_type": "stream",
     "text": [
      "403 - Forbidden - You must accept the rules for this competition to perform this action.\n"
     ]
    }
   ],
   "source": [
    "#submission 약관 동의\n",
    "!kaggle competitions submissions -c spaceship-titanic"
   ]
  },
  {
   "cell_type": "code",
   "execution_count": 30,
   "id": "0d4f6065",
   "metadata": {},
   "outputs": [
    {
     "name": "stdout",
     "output_type": "stream",
     "text": [
      "ref                                                      title                                                size  lastUpdated          downloadCount  voteCount  usabilityRating  \n",
      "-------------------------------------------------------  --------------------------------------------------  -----  -------------------  -------------  ---------  ---------------  \n",
      "miroslavsabo/young-people-survey                         Young People Survey                                  84KB  2016-12-06 03:10:30          42161        724  0.85294116       \n",
      "ruslankl/european-union-lgbt-survey-2012                 EU LGBT Survey                                      610KB  2019-07-19 11:15:25           5289        199  1.0              \n",
      "mahirahmzh/starbucks-customer-retention-malaysia-survey  Starbucks Customer Survey                             5KB  2020-05-16 15:44:54          15312        175  0.9117647        \n",
      "osmi/mental-health-in-tech-survey                        Mental Health in Tech Survey                         49KB  2016-11-03 17:28:47          60598       1010  0.88235295       \n",
      "usgs/earthquake-database                                 Significant Earthquakes, 1965-2016                  590KB  2017-01-26 20:14:10          36965        531  0.85294116       \n",
      "datahackers/pesquisa-data-hackers-2019                   Data Hackers Survey 2019                            134KB  2020-05-12 17:37:20           2088        193  0.9705882        \n",
      "stackoverflow/stack-overflow-2018-developer-survey       Stack Overflow 2018 Developer Survey                 20MB  2018-05-15 16:59:54          14877        439  0.85294116       \n",
      "catherinerasgaitis/mxmh-survey-results                   Music & Mental Health Survey Results                 22KB  2022-11-21 10:03:12          11871        191  1.0              \n",
      "kaggle/kaggle-survey-2018                                2018 Kaggle Machine Learning & Data Science Survey    4MB  2018-11-03 22:35:07          19879       1040  0.85294116       \n",
      "hackerrank/developer-survey-2018                         HackerRank Developer Survey 2018                      5MB  2018-03-19 21:42:43           4284        161  0.8235294        \n",
      "kaggle/kaggle-survey-2017                                2017 Kaggle Machine Learning & Data Science Survey    4MB  2017-10-27 22:03:03          28345        869  0.8235294        \n",
      "stackoverflow/so-survey-2017                             Stack Overflow Developer Survey, 2017                10MB  2017-06-15 14:15:47           8160        219  0.85294116       \n",
      "lucidlenn/sloan-digital-sky-survey                       Sloan Digital Sky Survey DR14                       446KB  2018-09-20 00:23:41           6448        206  0.8235294        \n",
      "census/current-population-survey                         Current Population Survey                            22MB  2019-11-17 23:09:52           2567         48  0.7647059        \n",
      "census/2013-american-community-survey                    2013 American Community Survey                      916MB  2017-05-01 19:10:03           6134         98  0.7647059        \n",
      "muhakabartay/sloan-digital-sky-survey-dr16               Sloan Digital Sky Survey DR16                         6MB  2019-12-30 17:24:28           1159         76  1.0              \n",
      "cdc/national-health-and-nutrition-examination-survey     National Health and Nutrition Examination Survey      7MB  2017-01-26 20:11:45          21427        351  0.7352941        \n",
      "freecodecamp/2016-new-coder-survey-                      2016 New Coder Survey                                 2MB  2016-06-03 00:27:28           5176         93  0.7058824        \n",
      "bls/american-time-use-survey                             American Time Use Survey                            249MB  2017-06-15 16:32:54           2986         77  0.7352941        \n",
      "ruchi798/student-feedback-survey-responses               Student Feedback Survey Responses                    10KB  2022-03-10 08:08:52           2186         67  1.0              \n"
     ]
    }
   ],
   "source": [
    "!kaggle datasets list -s survey"
   ]
  },
  {
   "cell_type": "code",
   "execution_count": 32,
   "id": "2a9e9510",
   "metadata": {},
   "outputs": [
    {
     "name": "stdout",
     "output_type": "stream",
     "text": [
      "name                       size  creationDate         \n",
      "-------------------------  ----  -------------------  \n",
      "survey_results_public.csv  89MB  2017-06-15 14:15:47  \n",
      "survey_results_schema.csv  22KB  2017-06-15 14:15:47  \n"
     ]
    }
   ],
   "source": [
    "!kaggle datasets files -d stackoverflow/so-survey-2017"
   ]
  },
  {
   "cell_type": "code",
   "execution_count": 33,
   "id": "5c822444",
   "metadata": {},
   "outputs": [
    {
     "name": "stdout",
     "output_type": "stream",
     "text": [
      "name                           size  creationDate         \n",
      "----------------------------  -----  -------------------  \n",
      "City_time_series.csv          658MB  2018-01-24 23:53:58  \n",
      "all_available_metrics.json      3KB  2018-01-24 23:53:58  \n",
      "DataDictionary.csv              5KB  2018-01-24 23:53:58  \n",
      "CountyCrossWalk_Zillow.csv    227KB  2018-01-24 23:53:58  \n",
      "cities_crosswalk.csv            1MB  2018-01-24 23:53:58  \n",
      "Zip_time_series.csv           746MB  2018-01-24 23:53:58  \n",
      "Neighborhood_time_series.csv  253MB  2018-01-24 23:53:58  \n",
      "Metro_time_series.csv          54MB  2018-01-24 23:53:58  \n",
      "fields_per_level.json          17KB  2018-01-24 23:53:58  \n",
      "State_time_series.csv           5MB  2018-01-24 23:53:58  \n",
      "County_time_series.csv        108MB  2018-01-24 23:53:58  \n"
     ]
    }
   ],
   "source": [
    "!kaggle datasets files -d zillow/zecon"
   ]
  },
  {
   "cell_type": "code",
   "execution_count": null,
   "id": "7241b4c6",
   "metadata": {},
   "outputs": [],
   "source": []
  }
 ],
 "metadata": {
  "kernelspec": {
   "display_name": "Python 3 (ipykernel)",
   "language": "python",
   "name": "python3"
  },
  "language_info": {
   "codemirror_mode": {
    "name": "ipython",
    "version": 3
   },
   "file_extension": ".py",
   "mimetype": "text/x-python",
   "name": "python",
   "nbconvert_exporter": "python",
   "pygments_lexer": "ipython3",
   "version": "3.9.7"
  }
 },
 "nbformat": 4,
 "nbformat_minor": 5
}
