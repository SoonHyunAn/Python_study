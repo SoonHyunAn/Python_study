{
 "cells": [
  {
   "cell_type": "code",
   "execution_count": 1,
   "id": "d3535c81",
   "metadata": {},
   "outputs": [
    {
     "name": "stdout",
     "output_type": "stream",
     "text": [
      "오늘 메인 뉴스\n",
      "1.  ‘말기암 투병’ 전여옥, 안타까운 근황 “오늘부터 물 먹을 수 있어서…”\n",
      "링크: \n",
      "2.  세리머니하다 역전패 ‘데자뷔’…롤러 역전승 주인공, 이번엔 본인이\n",
      "링크: \n",
      "3.  의대정원 확대 '1천명' 넘을수도...\"대통령이 직접 발표\"\n",
      "링크: \n"
     ]
    }
   ],
   "source": [
    "import requests\n",
    "from bs4 import BeautifulSoup\n",
    "\n",
    "headers = {\"User-Agent\":\"Mozilla/5.0 (Windows NT 10.0; Win64; x64) AppleWebKit/537.36 (KHTML, like Gecko) Chrome/116.0.0.0 Safari/537.36\"}\n",
    "\n",
    "url_3=\"https://news.naver.com/main/main.naver?mode=LSD&mid=shm&sid1=105\"\n",
    "url_4=\"https://www.hackers.co.kr/?c=s_lec/lec_study/lec_I_others_english\"\n",
    "\n",
    "\n",
    "def creation_soup(url):\n",
    "    res=requests.get(url, headers=headers)\n",
    "    res.raise_for_status()\n",
    "    soup = BeautifulSoup(res.text, \"lxml\") \n",
    "    return soup\n",
    "\n",
    "def scrape_weather():\n",
    "    url=\"https://search.naver.com/search.naver?where=nexearch&sm=top_hty&fbm=0&ie=utf8&query=%EC%84%9C%EC%9A%B8+%EB%82%A0%EC%94%A8\"\n",
    "    soup = creation_soup(url)\n",
    "    \n",
    "    area = soup.find(\"h2\", attrs={\"class\":\"blind\"}).get_text()\n",
    "    print(\"오늘 {} 날씨\".format(area))\n",
    "    \n",
    "    # 흐림, 어제보다 00도 높아요\n",
    "    compare_yesterday=soup.find(\"p\", attrs={\"class\":[\"summary\",\"temperature down\",\"temperature up\"]})\n",
    "    print(compare_yesterday.get_text())\n",
    "    \n",
    "    # 현재 00도 (최저 00도/ 최고 00도)\n",
    "    current_temp=soup.find(\"div\", attrs={\"class\":[\"weather_graphic\"]})\n",
    "    max_temp=soup.find(\"span\", attrs={\"class\":[\"highest\"]})\n",
    "    min_temp=soup.find(\"span\", attrs={\"class\":\"lowest\"})\n",
    "    print(\"{}/ {}/ {}\".format(current_temp.get_text().replace(\"  \", \"\"), min_temp.get_text().replace(\"  \", \" \"),  max_temp.get_text().replace(\"  \", \" \")))\n",
    "    \n",
    "    # 오전 오후 강우 확률\n",
    "    rain_ration=soup.find(\"div\", attrs={\"class\":\"cell_weather\"})\n",
    "    print(rain_ration.get_text().replace(\"   \",\"/\"))\n",
    "   \n",
    "    #미세먼지, 자외선, 일몰\n",
    "    dust=soup.find(\"ul\", attrs={\"class\":\"today_chart_list\"})\n",
    "    print(\"{}\".format(dust.get_text().replace(\"   \", \"/\").replace(\"  \", \"\")))\n",
    "\n",
    "def main_news():\n",
    "    print(\"오늘 메인 뉴스\")\n",
    "    url=\"https://news.naver.com/\"\n",
    "    count=1\n",
    "    while count < 4:\n",
    "        soup = creation_soup(url)\n",
    "        news= soup.find(\"div\", attrs={\"class\":\"cjs_journal_wrap _item_contents\"}).find(\"div\", attrs={\"class\":\"cjs_t\"})\n",
    "        link = soup.find('div', class_={\"cjs_journal_wrap _item_contents\"})\n",
    "        print(\"{}. \".format(count), news.get_text())\n",
    "        print(\"링크: \".format(link.find(\"a\").attrs[\"href\"]))\n",
    "        \n",
    "        count+=1\n",
    "\n",
    "def it_news():\n",
    "    pass\n",
    "\n",
    "def english():\n",
    "    pass\n",
    "\n",
    "\n",
    "\n",
    "# scrape_weather()\n",
    "main_news()"
   ]
  }
 ],
 "metadata": {
  "kernelspec": {
   "display_name": "Python 3 (ipykernel)",
   "language": "python",
   "name": "python3"
  },
  "language_info": {
   "codemirror_mode": {
    "name": "ipython",
    "version": 3
   },
   "file_extension": ".py",
   "mimetype": "text/x-python",
   "name": "python",
   "nbconvert_exporter": "python",
   "pygments_lexer": "ipython3",
   "version": "3.7.9"
  }
 },
 "nbformat": 4,
 "nbformat_minor": 5
}
