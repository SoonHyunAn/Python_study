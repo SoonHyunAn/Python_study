{
 "cells": [
  {
   "cell_type": "markdown",
   "id": "cbb03301",
   "metadata": {},
   "source": [
    "# 15. 산점도 그래프"
   ]
  },
  {
   "cell_type": "code",
   "execution_count": 1,
   "id": "7d6e12b5",
   "metadata": {},
   "outputs": [],
   "source": [
    "import matplotlib.pyplot as plt\n",
    "import matplotlib\n",
    "matplotlib.rcParams['font.family'] = 'Malgun Gothic' # Windows\n",
    "# matplotlib.rcParams['font.family'] = 'AppleGothic' # Mac\n",
    "matplotlib.rcParams['font.size'] = 15 # 글자 크기\n",
    "matplotlib.rcParams['axes.unicode_minus'] = False # 한글 폰트 사용 시, 마이너스 글자가 깨지는 현상을 해결"
   ]
  },
  {
   "cell_type": "code",
   "execution_count": 2,
   "id": "a214f291",
   "metadata": {
    "scrolled": true
   },
   "outputs": [
    {
     "data": {
      "text/html": [
       "<div>\n",
       "<style scoped>\n",
       "    .dataframe tbody tr th:only-of-type {\n",
       "        vertical-align: middle;\n",
       "    }\n",
       "\n",
       "    .dataframe tbody tr th {\n",
       "        vertical-align: top;\n",
       "    }\n",
       "\n",
       "    .dataframe thead th {\n",
       "        text-align: right;\n",
       "    }\n",
       "</style>\n",
       "<table border=\"1\" class=\"dataframe\">\n",
       "  <thead>\n",
       "    <tr style=\"text-align: right;\">\n",
       "      <th></th>\n",
       "      <th>지원번호</th>\n",
       "      <th>이름</th>\n",
       "      <th>학교</th>\n",
       "      <th>키</th>\n",
       "      <th>국어</th>\n",
       "      <th>영어</th>\n",
       "      <th>수학</th>\n",
       "      <th>과학</th>\n",
       "      <th>사회</th>\n",
       "      <th>SW특기</th>\n",
       "    </tr>\n",
       "  </thead>\n",
       "  <tbody>\n",
       "    <tr>\n",
       "      <th>0</th>\n",
       "      <td>1번</td>\n",
       "      <td>채치수</td>\n",
       "      <td>북산고</td>\n",
       "      <td>197</td>\n",
       "      <td>90</td>\n",
       "      <td>85</td>\n",
       "      <td>100</td>\n",
       "      <td>95</td>\n",
       "      <td>85</td>\n",
       "      <td>Python</td>\n",
       "    </tr>\n",
       "    <tr>\n",
       "      <th>1</th>\n",
       "      <td>2번</td>\n",
       "      <td>정대만</td>\n",
       "      <td>북산고</td>\n",
       "      <td>184</td>\n",
       "      <td>40</td>\n",
       "      <td>35</td>\n",
       "      <td>50</td>\n",
       "      <td>55</td>\n",
       "      <td>25</td>\n",
       "      <td>Java</td>\n",
       "    </tr>\n",
       "    <tr>\n",
       "      <th>2</th>\n",
       "      <td>3번</td>\n",
       "      <td>송태섭</td>\n",
       "      <td>북산고</td>\n",
       "      <td>168</td>\n",
       "      <td>80</td>\n",
       "      <td>75</td>\n",
       "      <td>70</td>\n",
       "      <td>80</td>\n",
       "      <td>75</td>\n",
       "      <td>Javascript</td>\n",
       "    </tr>\n",
       "    <tr>\n",
       "      <th>3</th>\n",
       "      <td>4번</td>\n",
       "      <td>서태웅</td>\n",
       "      <td>북산고</td>\n",
       "      <td>187</td>\n",
       "      <td>40</td>\n",
       "      <td>60</td>\n",
       "      <td>70</td>\n",
       "      <td>75</td>\n",
       "      <td>80</td>\n",
       "      <td>NaN</td>\n",
       "    </tr>\n",
       "    <tr>\n",
       "      <th>4</th>\n",
       "      <td>5번</td>\n",
       "      <td>강백호</td>\n",
       "      <td>북산고</td>\n",
       "      <td>188</td>\n",
       "      <td>15</td>\n",
       "      <td>20</td>\n",
       "      <td>10</td>\n",
       "      <td>35</td>\n",
       "      <td>10</td>\n",
       "      <td>NaN</td>\n",
       "    </tr>\n",
       "    <tr>\n",
       "      <th>5</th>\n",
       "      <td>6번</td>\n",
       "      <td>변덕규</td>\n",
       "      <td>능남고</td>\n",
       "      <td>202</td>\n",
       "      <td>80</td>\n",
       "      <td>100</td>\n",
       "      <td>95</td>\n",
       "      <td>85</td>\n",
       "      <td>80</td>\n",
       "      <td>C</td>\n",
       "    </tr>\n",
       "    <tr>\n",
       "      <th>6</th>\n",
       "      <td>7번</td>\n",
       "      <td>황태산</td>\n",
       "      <td>능남고</td>\n",
       "      <td>188</td>\n",
       "      <td>55</td>\n",
       "      <td>65</td>\n",
       "      <td>45</td>\n",
       "      <td>40</td>\n",
       "      <td>35</td>\n",
       "      <td>PYTHON</td>\n",
       "    </tr>\n",
       "    <tr>\n",
       "      <th>7</th>\n",
       "      <td>8번</td>\n",
       "      <td>윤대협</td>\n",
       "      <td>능남고</td>\n",
       "      <td>190</td>\n",
       "      <td>100</td>\n",
       "      <td>85</td>\n",
       "      <td>90</td>\n",
       "      <td>95</td>\n",
       "      <td>95</td>\n",
       "      <td>C#</td>\n",
       "    </tr>\n",
       "  </tbody>\n",
       "</table>\n",
       "</div>"
      ],
      "text/plain": [
       "  지원번호   이름   학교    키   국어   영어   수학  과학  사회        SW특기\n",
       "0   1번  채치수  북산고  197   90   85  100  95  85      Python\n",
       "1   2번  정대만  북산고  184   40   35   50  55  25        Java\n",
       "2   3번  송태섭  북산고  168   80   75   70  80  75  Javascript\n",
       "3   4번  서태웅  북산고  187   40   60   70  75  80         NaN\n",
       "4   5번  강백호  북산고  188   15   20   10  35  10         NaN\n",
       "5   6번  변덕규  능남고  202   80  100   95  85  80           C\n",
       "6   7번  황태산  능남고  188   55   65   45  40  35      PYTHON\n",
       "7   8번  윤대협  능남고  190  100   85   90  95  95          C#"
      ]
     },
     "execution_count": 2,
     "metadata": {},
     "output_type": "execute_result"
    }
   ],
   "source": [
    "import pandas as pd\n",
    "df = pd.read_excel('../1. Pandas/score.xlsx')\n",
    "df"
   ]
  },
  {
   "cell_type": "code",
   "execution_count": 3,
   "id": "6f631cbf",
   "metadata": {},
   "outputs": [
    {
     "data": {
      "text/html": [
       "<div>\n",
       "<style scoped>\n",
       "    .dataframe tbody tr th:only-of-type {\n",
       "        vertical-align: middle;\n",
       "    }\n",
       "\n",
       "    .dataframe tbody tr th {\n",
       "        vertical-align: top;\n",
       "    }\n",
       "\n",
       "    .dataframe thead th {\n",
       "        text-align: right;\n",
       "    }\n",
       "</style>\n",
       "<table border=\"1\" class=\"dataframe\">\n",
       "  <thead>\n",
       "    <tr style=\"text-align: right;\">\n",
       "      <th></th>\n",
       "      <th>지원번호</th>\n",
       "      <th>이름</th>\n",
       "      <th>학교</th>\n",
       "      <th>키</th>\n",
       "      <th>국어</th>\n",
       "      <th>영어</th>\n",
       "      <th>수학</th>\n",
       "      <th>과학</th>\n",
       "      <th>사회</th>\n",
       "      <th>SW특기</th>\n",
       "      <th>학년</th>\n",
       "    </tr>\n",
       "  </thead>\n",
       "  <tbody>\n",
       "    <tr>\n",
       "      <th>0</th>\n",
       "      <td>1번</td>\n",
       "      <td>채치수</td>\n",
       "      <td>북산고</td>\n",
       "      <td>197</td>\n",
       "      <td>90</td>\n",
       "      <td>85</td>\n",
       "      <td>100</td>\n",
       "      <td>95</td>\n",
       "      <td>85</td>\n",
       "      <td>Python</td>\n",
       "      <td>3</td>\n",
       "    </tr>\n",
       "    <tr>\n",
       "      <th>1</th>\n",
       "      <td>2번</td>\n",
       "      <td>정대만</td>\n",
       "      <td>북산고</td>\n",
       "      <td>184</td>\n",
       "      <td>40</td>\n",
       "      <td>35</td>\n",
       "      <td>50</td>\n",
       "      <td>55</td>\n",
       "      <td>25</td>\n",
       "      <td>Java</td>\n",
       "      <td>3</td>\n",
       "    </tr>\n",
       "    <tr>\n",
       "      <th>2</th>\n",
       "      <td>3번</td>\n",
       "      <td>송태섭</td>\n",
       "      <td>북산고</td>\n",
       "      <td>168</td>\n",
       "      <td>80</td>\n",
       "      <td>75</td>\n",
       "      <td>70</td>\n",
       "      <td>80</td>\n",
       "      <td>75</td>\n",
       "      <td>Javascript</td>\n",
       "      <td>2</td>\n",
       "    </tr>\n",
       "    <tr>\n",
       "      <th>3</th>\n",
       "      <td>4번</td>\n",
       "      <td>서태웅</td>\n",
       "      <td>북산고</td>\n",
       "      <td>187</td>\n",
       "      <td>40</td>\n",
       "      <td>60</td>\n",
       "      <td>70</td>\n",
       "      <td>75</td>\n",
       "      <td>80</td>\n",
       "      <td>NaN</td>\n",
       "      <td>1</td>\n",
       "    </tr>\n",
       "    <tr>\n",
       "      <th>4</th>\n",
       "      <td>5번</td>\n",
       "      <td>강백호</td>\n",
       "      <td>북산고</td>\n",
       "      <td>188</td>\n",
       "      <td>15</td>\n",
       "      <td>20</td>\n",
       "      <td>10</td>\n",
       "      <td>35</td>\n",
       "      <td>10</td>\n",
       "      <td>NaN</td>\n",
       "      <td>1</td>\n",
       "    </tr>\n",
       "    <tr>\n",
       "      <th>5</th>\n",
       "      <td>6번</td>\n",
       "      <td>변덕규</td>\n",
       "      <td>능남고</td>\n",
       "      <td>202</td>\n",
       "      <td>80</td>\n",
       "      <td>100</td>\n",
       "      <td>95</td>\n",
       "      <td>85</td>\n",
       "      <td>80</td>\n",
       "      <td>C</td>\n",
       "      <td>3</td>\n",
       "    </tr>\n",
       "    <tr>\n",
       "      <th>6</th>\n",
       "      <td>7번</td>\n",
       "      <td>황태산</td>\n",
       "      <td>능남고</td>\n",
       "      <td>188</td>\n",
       "      <td>55</td>\n",
       "      <td>65</td>\n",
       "      <td>45</td>\n",
       "      <td>40</td>\n",
       "      <td>35</td>\n",
       "      <td>PYTHON</td>\n",
       "      <td>2</td>\n",
       "    </tr>\n",
       "    <tr>\n",
       "      <th>7</th>\n",
       "      <td>8번</td>\n",
       "      <td>윤대협</td>\n",
       "      <td>능남고</td>\n",
       "      <td>190</td>\n",
       "      <td>100</td>\n",
       "      <td>85</td>\n",
       "      <td>90</td>\n",
       "      <td>95</td>\n",
       "      <td>95</td>\n",
       "      <td>C#</td>\n",
       "      <td>2</td>\n",
       "    </tr>\n",
       "  </tbody>\n",
       "</table>\n",
       "</div>"
      ],
      "text/plain": [
       "  지원번호   이름   학교    키   국어   영어   수학  과학  사회        SW특기  학년\n",
       "0   1번  채치수  북산고  197   90   85  100  95  85      Python   3\n",
       "1   2번  정대만  북산고  184   40   35   50  55  25        Java   3\n",
       "2   3번  송태섭  북산고  168   80   75   70  80  75  Javascript   2\n",
       "3   4번  서태웅  북산고  187   40   60   70  75  80         NaN   1\n",
       "4   5번  강백호  북산고  188   15   20   10  35  10         NaN   1\n",
       "5   6번  변덕규  능남고  202   80  100   95  85  80           C   3\n",
       "6   7번  황태산  능남고  188   55   65   45  40  35      PYTHON   2\n",
       "7   8번  윤대협  능남고  190  100   85   90  95  95          C#   2"
      ]
     },
     "execution_count": 3,
     "metadata": {},
     "output_type": "execute_result"
    }
   ],
   "source": [
    "df['학년'] = [3, 3, 2, 1, 1, 3, 2, 2]\n",
    "df"
   ]
  },
  {
   "cell_type": "code",
   "execution_count": 4,
   "id": "d73e6f80",
   "metadata": {},
   "outputs": [
    {
     "data": {
      "text/plain": [
       "Text(0, 0.5, '수학 점수')"
      ]
     },
     "execution_count": 4,
     "metadata": {},
     "output_type": "execute_result"
    },
    {
     "data": {
      "image/png": "[encoded data removed]",
      "text/plain": [
       "<Figure size 432x288 with 1 Axes>"
      ]
     },
     "metadata": {
      "needs_background": "light"
     },
     "output_type": "display_data"
    }
   ],
   "source": [
    "plt.scatter(df['영어'], df['수학'])\n",
    "plt.xlabel('영어 점수')\n",
    "plt.ylabel('수학 점수')"
   ]
  },
  {
   "cell_type": "code",
   "execution_count": 5,
   "id": "58feba4e",
   "metadata": {},
   "outputs": [
    {
     "data": {
      "text/plain": [
       "array([132.60043638, 689.5316275 , 307.03263592, 532.04269909,\n",
       "        80.26162107, 175.3720075 , 223.05221379, 685.39328192])"
      ]
     },
     "execution_count": 5,
     "metadata": {},
     "output_type": "execute_result"
    }
   ],
   "source": [
    "import numpy as np\n",
    "sizes = np.random.rand(8) * 1000\n",
    "sizes"
   ]
  },
  {
   "cell_type": "code",
   "execution_count": 6,
   "id": "25be721d",
   "metadata": {},
   "outputs": [
    {
     "data": {
      "text/plain": [
       "Text(0, 0.5, '수학 점수')"
      ]
     },
     "execution_count": 6,
     "metadata": {},
     "output_type": "execute_result"
    },
    {
     "data": {
      "image/png": "[encoded data removed]",
      "text/plain": [
       "<Figure size 432x288 with 1 Axes>"
      ]
     },
     "metadata": {
      "needs_background": "light"
     },
     "output_type": "display_data"
    }
   ],
   "source": [
    "plt.scatter(df['영어'], df['수학'], s=sizes)\n",
    "plt.xlabel('영어 점수')\n",
    "plt.ylabel('수학 점수')"
   ]
  },
  {
   "cell_type": "code",
   "execution_count": 11,
   "id": "f4d61360",
   "metadata": {},
   "outputs": [
    {
     "data": {
      "text/plain": [
       "Text(0, 0.5, '수학 점수')"
      ]
     },
     "execution_count": 11,
     "metadata": {},
     "output_type": "execute_result"
    },
    {
     "data": {
      "image/png": "[encoded data removed]",
      "text/plain": [
       "<Figure size 432x288 with 1 Axes>"
      ]
     },
     "metadata": {
      "needs_background": "light"
     },
     "output_type": "display_data"
    }
   ],
   "source": [
    "sizes = df['학년'] * 200 # 1학년 = 200, 2학년 = 400, 3학년 = 600\n",
    "plt.scatter(df['영어'], df['수학'], s=sizes)\n",
    "plt.xlabel('영어 점수')\n",
    "plt.ylabel('수학 점수')"
   ]
  },
  {
   "cell_type": "code",
   "execution_count": 8,
   "id": "38d9ea65",
   "metadata": {},
   "outputs": [
    {
     "data": {
      "text/plain": [
       "Text(0, 0.5, '수학 점수')"
      ]
     },
     "execution_count": 8,
     "metadata": {},
     "output_type": "execute_result"
    },
    {
     "data": {
      "image/png": "[encoded data removed]",
      "text/plain": [
       "<Figure size 432x288 with 1 Axes>"
      ]
     },
     "metadata": {
      "needs_background": "light"
     },
     "output_type": "display_data"
    }
   ],
   "source": [
    "plt.scatter(df['영어'], df['수학'], s=sizes, c=df['학년'], cmap='viridis', alpha=0.3)\n",
    "plt.xlabel('영어 점수')\n",
    "plt.ylabel('수학 점수')"
   ]
  },
  {
   "cell_type": "code",
   "execution_count": 9,
   "id": "0ef8adc6",
   "metadata": {},
   "outputs": [
    {
     "data": {
      "text/plain": [
       "<matplotlib.colorbar.Colorbar at 0x220fc26c1c0>"
      ]
     },
     "execution_count": 9,
     "metadata": {},
     "output_type": "execute_result"
    },
    {
     "data": {
      "image/png": "[encoded data removed]",
      "text/plain": [
       "<Figure size 504x504 with 2 Axes>"
      ]
     },
     "metadata": {
      "needs_background": "light"
     },
     "output_type": "display_data"
    }
   ],
   "source": [
    "plt.figure(figsize=(7, 7))\n",
    "plt.scatter(df['영어'], df['수학'], s=sizes, c=df['학년'], cmap='viridis', alpha=0.3) \n",
    "# c 색, cmap 저장되어있는 색의 집합\n",
    "plt.xlabel('영어 점수')\n",
    "plt.ylabel('수학 점수')\n",
    "plt.colorbar(ticks=[1, 2, 3], label='학년', shrink=0.5, orientation='horizontal')\n",
    "# shrink 크기, orientation 위치 (기본값 수직)"
   ]
  }
 ],
 "metadata": {
  "kernelspec": {
   "display_name": "Python 3 (ipykernel)",
   "language": "python",
   "name": "python3"
  },
  "language_info": {
   "codemirror_mode": {
    "name": "ipython",
    "version": 3
   },
   "file_extension": ".py",
   "mimetype": "text/x-python",
   "name": "python",
   "nbconvert_exporter": "python",
   "pygments_lexer": "ipython3",
   "version": "3.9.7"
  }
 },
 "nbformat": 4,
 "nbformat_minor": 5
}
