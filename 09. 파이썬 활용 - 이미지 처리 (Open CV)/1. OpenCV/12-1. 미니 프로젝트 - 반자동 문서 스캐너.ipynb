{
 "cells": [
  {
   "cell_type": "code",
   "execution_count": 1,
   "id": "0da581d5",
   "metadata": {},
   "outputs": [],
   "source": [
    "## 미니 프로젝트 : 반자동 문서 스캐너"
   ]
  },
  {
   "cell_type": "code",
   "execution_count": 14,
   "id": "2671a3a2",
   "metadata": {},
   "outputs": [],
   "source": [
    "import cv2\n",
    "\n",
    "def mouse_handler(event, x, y, flags, param):\n",
    "    if event == cv2.EVENT_LBUTTONDOWN: # 마우스 왼쪽 버튼 Down\n",
    "        print('왼쪽 버튼 Down')\n",
    "        print(x, y)\n",
    "    elif event == cv2.EVENT_LBUTTONUP: # 마우스 왼쪽 버튼 Up\n",
    "        print('왼쪽 버튼 Up')\n",
    "        print(x, y)\n",
    "    elif event == cv2.EVENT_LBUTTONDBLCLK: # 마우스 왼쪽 버튼 더블 클릭\n",
    "        print('왼쪽 버튼 Double Click')\n",
    "#   elif event == cv2.EVENT_MOUSEMOVE: # 마우스 이동\n",
    "#         print('마우스 이동')\n",
    "    elif event == cv2.EVENT_RBUTTONDOWN: # 오른쪽 버튼 Down\n",
    "        print('오른쪽 버튼 Down')\n",
    "\n",
    "img = cv2.imread('poker.jpg')\n",
    "cv2.namedWindow('img') \n",
    "# img 란 이름의 윈도우를 먼저 만들어두는 것. 여기에 마우스 이벤트를 처리하기 위한 핸들러 적용\n",
    "cv2.setMouseCallback('img', mouse_handler)\n",
    "cv2.imshow('img', img)\n",
    "cv2.waitKey(0)\n",
    "cv2.destroyAllWindows()"
   ]
  },
  {
   "cell_type": "code",
   "execution_count": 3,
   "id": "5e4c308e",
   "metadata": {},
   "outputs": [],
   "source": [
    "### 프로젝트"
   ]
  },
  {
   "cell_type": "code",
   "execution_count": 4,
   "id": "599ecc47",
   "metadata": {},
   "outputs": [],
   "source": [
    "import cv2\n",
    "import numpy as np\n",
    "\n",
    "point_list = []\n",
    "src_img = cv2.imread('poker.jpg')\n",
    "src_img = cv2.resize(src_img, None, fx=0.5, fy=0.5) # 이미지가 너무 커서 0.5 배로 축소\n",
    "\n",
    "COLOR = (255, 0, 255) # 핑크\n",
    "THICKNESS = 2 # 선의 두께\n",
    "drawing = False # 선을 그릴지 여부(기본값이 False 이므로 처음엔 그리지 않음)\n",
    "\n",
    "def mouse_handler(event, x, y, flags, param):\n",
    "    global drawing\n",
    "    dst_img = src_img.copy() # 가상 공간을 형성 (실시간 선이 사라지지 않고 누적되는 것을 방지)\n",
    "    \n",
    "    if event == cv2.EVENT_LBUTTONDOWN: # 마우스 왼쪽 버튼 Down\n",
    "        drawing = True # 선을 그리기 시작\n",
    "        point_list.append((x, y))\n",
    "     \n",
    "    if drawing:\n",
    "        prev_point = None # 직선의 시작점\n",
    "        for point in point_list:\n",
    "            cv2.circle(dst_img, point, 10, COLOR, cv2.FILLED)\n",
    "            if prev_point:\n",
    "                cv2.line(dst_img, prev_point, point, COLOR, THICKNESS, cv2.LINE_AA)\n",
    "            prev_point = point\n",
    "        \n",
    "        next_point = (x, y) #계속 갱신중\n",
    "        if len(point_list) == 4:\n",
    "            show_result() # 결과 출력\n",
    "            next_point = point_list[0] # 첫 번째 클릭한 지점과 4번째 클릭한 점을 이어주기 위함\n",
    "            \n",
    "        cv2.line(dst_img, prev_point, next_point, COLOR, THICKNESS, cv2.LINE_AA)\n",
    "        \n",
    "    cv2.imshow('img', dst_img) #보여주는 것이 가상 공간 내, result창에서 표시된 원과 선은 없음\n",
    "    \n",
    "def show_result():\n",
    "    width, height = 530 // 2, 710 // 2 # 이미지가 너무 커서 0.5 배로 축소\n",
    "    src = np.float32(point_list)\n",
    "    dst = np.array([[0, 0], [width, 0], [width, height], [0, height]], dtype=np.float32) # Output 4개 지점\n",
    "    # 좌상, 우상, 우하, 좌하 (시계 방향으로 4 지점 정의)\n",
    "\n",
    "    matrix = cv2.getPerspectiveTransform(src, dst) # Matrix 얻어옴\n",
    "    result = cv2.warpPerspective(src_img, matrix, (width, height)) # matrix 대로 변환을 함\n",
    "    cv2.imshow('result', result)\n",
    "\n",
    "cv2.namedWindow('img') # img 란 이름의 윈도우를 먼저 만들어두는 것. 여기에 마우스 이벤트를 처리하기 위한 핸들러 적용\n",
    "cv2.setMouseCallback('img', mouse_handler)\n",
    "cv2.imshow('img', src_img)\n",
    "cv2.waitKey(0)\n",
    "cv2.destroyAllWindows()"
   ]
  }
 ],
 "metadata": {
  "kernelspec": {
   "display_name": "Python 3 (ipykernel)",
   "language": "python",
   "name": "python3"
  },
  "language_info": {
   "codemirror_mode": {
    "name": "ipython",
    "version": 3
   },
   "file_extension": ".py",
   "mimetype": "text/x-python",
   "name": "python",
   "nbconvert_exporter": "python",
   "pygments_lexer": "ipython3",
   "version": "3.9.7"
  }
 },
 "nbformat": 4,
 "nbformat_minor": 5
}
