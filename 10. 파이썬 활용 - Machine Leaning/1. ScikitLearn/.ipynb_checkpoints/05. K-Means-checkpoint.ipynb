{
 "cells": [
  {
   "cell_type": "markdown",
   "id": "ca20b18e",
   "metadata": {},
   "source": [
    "# 5. K-Means\n",
    "## 비지도 학습이기 때문에 x값만 가지고 진행"
   ]
  },
  {
   "cell_type": "markdown",
   "id": "18540c58",
   "metadata": {},
   "source": [
    "사용할 수 있는 core 수(Threads)\n",
    "\n",
    "WMIC CPU Get NumberOfCores\n",
    "\n",
    "NumberOfCores\n",
    "\n",
    "6"
   ]
  },
  {
   "cell_type": "code",
   "execution_count": 1,
   "id": "c79711bf",
   "metadata": {
    "scrolled": true
   },
   "outputs": [
    {
     "name": "stdout",
     "output_type": "stream",
     "text": [
      "Requirement already satisfied: threadpoolctl in c:\\users\\gusdl\\anaconda3\\lib\\site-packages (3.2.0)\n"
     ]
    },
    {
     "name": "stderr",
     "output_type": "stream",
     "text": [
      "DEPRECATION: pyodbc 4.0.0-unsupported has a non-standard version number. pip 24.0 will enforce this behaviour change. A possible replacement is to upgrade to a newer version of pyodbc or contact the author to suggest that they release a version with a conforming version number. Discussion can be found at https://github.com/pypa/pip/issues/12063\n"
     ]
    }
   ],
   "source": [
    "# !pip install --upgrade threadpoolctl \n",
    "# 다중 스레딩을 관리하는데 사용 (k-means++ 사용 시)"
   ]
  },
  {
   "cell_type": "code",
   "execution_count": 2,
   "id": "aaa1099f",
   "metadata": {},
   "outputs": [],
   "source": [
    "import os # 경고 대응-스레드 경고\n",
    "os.environ['OMP_NUM_THREADS'] = \"1\""
   ]
  },
  {
   "cell_type": "code",
   "execution_count": 3,
   "id": "9f54e7f8",
   "metadata": {},
   "outputs": [],
   "source": [
    "import numpy as np\n",
    "import matplotlib.pyplot as plt\n",
    "import pandas as pd"
   ]
  },
  {
   "cell_type": "code",
   "execution_count": 4,
   "id": "abcec6f8",
   "metadata": {},
   "outputs": [
    {
     "data": {
      "text/html": [
       "<div>\n",
       "<style scoped>\n",
       "    .dataframe tbody tr th:only-of-type {\n",
       "        vertical-align: middle;\n",
       "    }\n",
       "\n",
       "    .dataframe tbody tr th {\n",
       "        vertical-align: top;\n",
       "    }\n",
       "\n",
       "    .dataframe thead th {\n",
       "        text-align: right;\n",
       "    }\n",
       "</style>\n",
       "<table border=\"1\" class=\"dataframe\">\n",
       "  <thead>\n",
       "    <tr style=\"text-align: right;\">\n",
       "      <th></th>\n",
       "      <th>hour</th>\n",
       "      <th>score</th>\n",
       "    </tr>\n",
       "  </thead>\n",
       "  <tbody>\n",
       "    <tr>\n",
       "      <th>0</th>\n",
       "      <td>7.33</td>\n",
       "      <td>73</td>\n",
       "    </tr>\n",
       "    <tr>\n",
       "      <th>1</th>\n",
       "      <td>3.71</td>\n",
       "      <td>55</td>\n",
       "    </tr>\n",
       "    <tr>\n",
       "      <th>2</th>\n",
       "      <td>3.43</td>\n",
       "      <td>55</td>\n",
       "    </tr>\n",
       "    <tr>\n",
       "      <th>3</th>\n",
       "      <td>3.06</td>\n",
       "      <td>89</td>\n",
       "    </tr>\n",
       "    <tr>\n",
       "      <th>4</th>\n",
       "      <td>3.33</td>\n",
       "      <td>79</td>\n",
       "    </tr>\n",
       "  </tbody>\n",
       "</table>\n",
       "</div>"
      ],
      "text/plain": [
       "   hour  score\n",
       "0  7.33     73\n",
       "1  3.71     55\n",
       "2  3.43     55\n",
       "3  3.06     89\n",
       "4  3.33     79"
      ]
     },
     "execution_count": 4,
     "metadata": {},
     "output_type": "execute_result"
    }
   ],
   "source": [
    "dataset = pd.read_csv('KMeansData.csv')\n",
    "dataset[:5]"
   ]
  },
  {
   "cell_type": "code",
   "execution_count": 5,
   "id": "10483b6b",
   "metadata": {},
   "outputs": [
    {
     "data": {
      "text/plain": [
       "array([[ 7.33, 73.  ],\n",
       "       [ 3.71, 55.  ],\n",
       "       [ 3.43, 55.  ],\n",
       "       [ 3.06, 89.  ],\n",
       "       [ 3.33, 79.  ]])"
      ]
     },
     "execution_count": 5,
     "metadata": {},
     "output_type": "execute_result"
    }
   ],
   "source": [
    "X = dataset.iloc[:, :].values\n",
    "# X = dataset.values\n",
    "# X = dataset.to_numpy() # 공식 홈페이지 권장\n",
    "X[:5]"
   ]
  },
  {
   "cell_type": "markdown",
   "id": "544abeef",
   "metadata": {},
   "source": [
    "### 데이터 시각화 (전체 데이터 분포 확인)"
   ]
  },
  {
   "cell_type": "code",
   "execution_count": 6,
   "id": "00d0e387",
   "metadata": {},
   "outputs": [
    {
     "data": {
      "image/png": "[encoded data removed]",
      "text/plain": [
       "<Figure size 432x288 with 1 Axes>"
      ]
     },
     "metadata": {
      "needs_background": "light"
     },
     "output_type": "display_data"
    }
   ],
   "source": [
    "plt.scatter(X[:, 0], X[:, 1]) # x축 : hour, y축 : score\n",
    "plt.title('Score by hours')\n",
    "plt.xlabel('hours')\n",
    "plt.ylabel('score')\n",
    "plt.show()"
   ]
  },
  {
   "cell_type": "markdown",
   "id": "fc4d0a56",
   "metadata": {},
   "source": [
    "### 데이터 시각화 (축 범위 통일)\n",
    "#### 가로와 세로의 값을 동일한 기준으로 변경하여서 거리의 값을 비교하기 쉽도록 변경함 (유클리드 거리)"
   ]
  },
  {
   "cell_type": "code",
   "execution_count": 7,
   "id": "83e6fd61",
   "metadata": {},
   "outputs": [
    {
     "data": {
      "image/png": "[encoded data removed]",
      "text/plain": [
       "<Figure size 432x288 with 1 Axes>"
      ]
     },
     "metadata": {
      "needs_background": "light"
     },
     "output_type": "display_data"
    }
   ],
   "source": [
    "plt.scatter(X[:, 0], X[:, 1]) # x축 : hour, y축 : score\n",
    "plt.title('Score by hours')\n",
    "plt.xlabel('hours')\n",
    "plt.xlim(0, 100)\n",
    "plt.ylabel('score')\n",
    "plt.ylim(0, 100)\n",
    "plt.show()"
   ]
  },
  {
   "cell_type": "markdown",
   "id": "686d77b6",
   "metadata": {},
   "source": [
    "### 피처 스케일링 (Feature Scaling)"
   ]
  },
  {
   "cell_type": "code",
   "execution_count": 8,
   "id": "1c15de4d",
   "metadata": {},
   "outputs": [
    {
     "data": {
      "text/plain": [
       "array([[ 0.68729921,  0.73538376],\n",
       "       [-0.66687438,  0.04198891],\n",
       "       [-0.77161709,  0.04198891],\n",
       "       [-0.9100271 ,  1.35173473],\n",
       "       [-0.8090252 ,  0.96651537]])"
      ]
     },
     "execution_count": 8,
     "metadata": {},
     "output_type": "execute_result"
    }
   ],
   "source": [
    "from sklearn.preprocessing import StandardScaler\n",
    "sc = StandardScaler()\n",
    "X = sc.fit_transform(X)\n",
    "X[:5]"
   ]
  },
  {
   "cell_type": "markdown",
   "id": "a8478662",
   "metadata": {},
   "source": [
    "### 데이터 시각화 (스케일링된 데이터)"
   ]
  },
  {
   "cell_type": "code",
   "execution_count": 9,
   "id": "81c66dd3",
   "metadata": {},
   "outputs": [
    {
     "data": {
      "image/png": "[encoded data removed]",
      "text/plain": [
       "<Figure size 360x360 with 1 Axes>"
      ]
     },
     "metadata": {
      "needs_background": "light"
     },
     "output_type": "display_data"
    }
   ],
   "source": [
    "plt.figure(figsize=(5, 5))\n",
    "plt.scatter(X[:, 0], X[:, 1])\n",
    "plt.title('Score by hours')\n",
    "plt.xlabel('hours')\n",
    "plt.ylabel('score')\n",
    "plt.show()"
   ]
  },
  {
   "cell_type": "markdown",
   "id": "391e1786",
   "metadata": {},
   "source": [
    "### 최적의 K 값 찾기 (엘보우 방식 Elbow Method)"
   ]
  },
  {
   "cell_type": "code",
   "execution_count": 10,
   "id": "046fb43d",
   "metadata": {},
   "outputs": [
    {
     "data": {
      "image/png": "[encoded data removed]",
      "text/plain": [
       "<Figure size 432x288 with 1 Axes>"
      ]
     },
     "metadata": {
      "needs_background": "light"
     },
     "output_type": "display_data"
    }
   ],
   "source": [
    "from sklearn.cluster import KMeans\n",
    "inertia_list = []\n",
    "for i in range(1, 11):\n",
    "    kmeans = KMeans(n_clusters=i, init='k-means++', random_state=0, n_init=10)\n",
    "# n_init이 없으면 경고가 표시되면서 값이 출력 됨. 동일한 값이 나오기는 함.\n",
    "    kmeans.fit(X)\n",
    "    inertia_list.append(kmeans.inertia_) # 각 지점으로부터 클러스터의 중심(centroid) 까지의 거리의 제곱의 합\n",
    "    \n",
    "plt.plot(range(1, 11), inertia_list)\n",
    "plt.title('Elbow Method')\n",
    "plt.xlabel('n_clusters')\n",
    "plt.ylabel('inertia')\n",
    "plt.show()"
   ]
  },
  {
   "cell_type": "markdown",
   "id": "0c3a84fe",
   "metadata": {},
   "source": [
    "### 최적의 K (4) 값으로 KMeans 학습"
   ]
  },
  {
   "cell_type": "code",
   "execution_count": 11,
   "id": "6f4ca565",
   "metadata": {},
   "outputs": [],
   "source": [
    "K = 4 # 최적의 K 값을 4로 설정 (위 그래프 확인)"
   ]
  },
  {
   "cell_type": "code",
   "execution_count": 12,
   "id": "3d85442d",
   "metadata": {},
   "outputs": [],
   "source": [
    "kmeans = KMeans(n_clusters=K, init='k-means++', random_state=0, n_init=10)\n",
    "# kmeans.fit(X)\n",
    "y_kmeans = kmeans.fit_predict(X)"
   ]
  },
  {
   "cell_type": "code",
   "execution_count": 13,
   "id": "c553775f",
   "metadata": {},
   "outputs": [
    {
     "data": {
      "text/plain": [
       "array([2, 3, 3, 0, 0, 1, 1, 0, 2, 0, 0, 3, 1, 3, 3, 0, 1, 2, 3, 0, 1, 0,\n",
       "       3, 1, 2, 2, 3, 3, 3, 3, 1, 1, 3, 0, 2, 2, 3, 0, 0, 0, 3, 1, 2, 3,\n",
       "       3, 2, 1, 0, 1, 1, 2, 0, 1, 1, 0, 0, 0, 0, 3, 1, 1, 2, 2, 2, 2, 1,\n",
       "       1, 0, 1, 2, 3, 2, 2, 2, 3, 3, 3, 3, 0, 2, 1, 2, 1, 1, 2, 0, 3, 1,\n",
       "       2, 3, 0, 1, 0, 2, 3, 2, 2, 0, 1, 3])"
      ]
     },
     "execution_count": 13,
     "metadata": {},
     "output_type": "execute_result"
    }
   ],
   "source": [
    "y_kmeans"
   ]
  },
  {
   "cell_type": "markdown",
   "id": "735d4b13",
   "metadata": {},
   "source": [
    "### 데이터 시각화 (최적의 K)"
   ]
  },
  {
   "cell_type": "code",
   "execution_count": 14,
   "id": "39a0fecf",
   "metadata": {},
   "outputs": [
    {
     "data": {
      "text/plain": [
       "array([[-0.57163957,  0.85415973],\n",
       "       [ 0.8837666 , -1.26929779],\n",
       "       [ 0.94107583,  0.93569782],\n",
       "       [-1.22698889, -0.46768593]])"
      ]
     },
     "execution_count": 14,
     "metadata": {},
     "output_type": "execute_result"
    }
   ],
   "source": [
    "centers = kmeans.cluster_centers_ # 클러스터의 중심점 (centroid) 좌표\n",
    "centers"
   ]
  },
  {
   "cell_type": "code",
   "execution_count": 19,
   "id": "abf39216",
   "metadata": {},
   "outputs": [
    {
     "data": {
      "image/png": "[encoded data removed]",
      "text/plain": [
       "<Figure size 432x288 with 1 Axes>"
      ]
     },
     "metadata": {
      "needs_background": "light"
     },
     "output_type": "display_data"
    }
   ],
   "source": [
    "for cluster in range(K):\n",
    "    plt.scatter(X[y_kmeans == cluster, 0], X[y_kmeans == cluster, 1], s=100, edgecolor='black') # 각 데이터\n",
    "    # [y_kmeans == cluster, 0] : cluster가 0인 index 정의 (hours), 숫자가 1이면 score를 가져옴\n",
    "    plt.scatter(centers[cluster, 0], centers[cluster, 1], s=300, edgecolor='black', color='yellow', marker='s') # 중심점 네모\n",
    "    plt.text(centers[cluster, 0], centers[cluster, 1], cluster, va='center', ha='center') # 클러스터 텍스트 출력, 위치 조정(va, ha)\n",
    "\n",
    "plt.title('Score by hours')\n",
    "plt.xlabel('hours')\n",
    "plt.ylabel('score')\n",
    "plt.show()"
   ]
  },
  {
   "cell_type": "markdown",
   "id": "74c5828d",
   "metadata": {},
   "source": [
    "### 데이터 시각화 (스케일링 원복)"
   ]
  },
  {
   "cell_type": "code",
   "execution_count": 16,
   "id": "4638f2ff",
   "metadata": {},
   "outputs": [
    {
     "data": {
      "text/plain": [
       "array([[ 7.33, 73.  ],\n",
       "       [ 3.71, 55.  ],\n",
       "       [ 3.43, 55.  ],\n",
       "       [ 3.06, 89.  ],\n",
       "       [ 3.33, 79.  ]])"
      ]
     },
     "execution_count": 16,
     "metadata": {},
     "output_type": "execute_result"
    }
   ],
   "source": [
    "X_org = sc.inverse_transform(X) # Feature Scaling 된 데이터를 다시 원복\n",
    "X_org[:5]"
   ]
  },
  {
   "cell_type": "code",
   "execution_count": 17,
   "id": "7d03ca36",
   "metadata": {},
   "outputs": [
    {
     "data": {
      "text/plain": [
       "array([[ 3.96458333, 76.08333333],\n",
       "       [ 7.8552    , 20.96      ],\n",
       "       [ 8.0084    , 78.2       ],\n",
       "       [ 2.21269231, 41.76923077]])"
      ]
     },
     "execution_count": 17,
     "metadata": {},
     "output_type": "execute_result"
    }
   ],
   "source": [
    "centers_org = sc.inverse_transform(centers) # Feature Scaling 된 데이터바탕으로 설정한 Index 산점도도 다시 원복\n",
    "centers_org"
   ]
  },
  {
   "cell_type": "code",
   "execution_count": 18,
   "id": "6849d7c9",
   "metadata": {},
   "outputs": [
    {
     "data": {
      "image/png": "[encoded data removed]",
      "text/plain": [
       "<Figure size 432x288 with 1 Axes>"
      ]
     },
     "metadata": {
      "needs_background": "light"
     },
     "output_type": "display_data"
    }
   ],
   "source": [
    "for cluster in range(K):\n",
    "    plt.scatter(X_org[y_kmeans == cluster, 0], X_org[y_kmeans == cluster, 1], s=100, edgecolor='black') # 각 데이터\n",
    "    plt.scatter(centers_org[cluster, 0], centers_org[cluster, 1], s=300, edgecolor='black', color='yellow', marker='s') # 중심점 네모\n",
    "    plt.text(centers_org[cluster, 0], centers_org[cluster, 1], cluster, va='center', ha='center') # 클러스터 텍스트 출력\n",
    "    \n",
    "plt.title('Score by hours')\n",
    "plt.xlabel('hours')\n",
    "plt.ylabel('score')\n",
    "plt.show()"
   ]
  },
  {
   "cell_type": "code",
   "execution_count": null,
   "id": "55feacc5",
   "metadata": {},
   "outputs": [],
   "source": []
  }
 ],
 "metadata": {
  "kernelspec": {
   "display_name": "Python 3 (ipykernel)",
   "language": "python",
   "name": "python3"
  },
  "language_info": {
   "codemirror_mode": {
    "name": "ipython",
    "version": 3
   },
   "file_extension": ".py",
   "mimetype": "text/x-python",
   "name": "python",
   "nbconvert_exporter": "python",
   "pygments_lexer": "ipython3",
   "version": "3.9.7"
  }
 },
 "nbformat": 4,
 "nbformat_minor": 5
}
